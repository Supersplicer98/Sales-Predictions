{
  "nbformat": 4,
  "nbformat_minor": 0,
  "metadata": {
    "colab": {
      "name": "Sales Predictions",
      "provenance": [],
      "mount_file_id": "1vdV-h8JCq3mNp6e94TSswuYzsIHIZNqF",
      "authorship_tag": "ABX9TyP4CNqj29HYkGvgTOCnYaHW",
      "include_colab_link": true
    },
    "kernelspec": {
      "name": "python3",
      "display_name": "Python 3"
    },
    "language_info": {
      "name": "python"
    }
  },
  "cells": [
    {
      "cell_type": "markdown",
      "metadata": {
        "id": "view-in-github",
        "colab_type": "text"
      },
      "source": [
        "<a href=\"https://colab.research.google.com/github/Supersplicer98/Sales-Predictions/blob/main/Sales-Predictions.ipynb\" target=\"_parent\"><img src=\"https://colab.research.google.com/assets/colab-badge.svg\" alt=\"Open In Colab\"/></a>"
      ]
    },
    {
      "cell_type": "code",
      "metadata": {
        "id": "uoR_b2z3lXSZ"
      },
      "source": [
        "import pandas as pd\n",
        "filename = '/content/sales_predictions (4).csv'"
      ],
      "execution_count": 7,
      "outputs": []
    },
    {
      "cell_type": "code",
      "metadata": {
        "colab": {
          "base_uri": "https://localhost:8080/"
        },
        "id": "udxQPv2rll6q",
        "outputId": "6cebede3-6201-4bfd-e7d9-b9f41ccb1c18"
      },
      "source": [
        "df.sales = pd.read_csv(filename)\n",
        "df.head"
      ],
      "execution_count": 8,
      "outputs": [
        {
          "output_type": "execute_result",
          "data": {
            "text/plain": [
              "<bound method NDFrame.head of         RM  LSTAT  PTRATIO  target\n",
              "0    6.575   4.98     15.3    24.0\n",
              "1    6.421   9.14     17.8    21.6\n",
              "2    7.185   4.03     17.8    34.7\n",
              "3    6.998   2.94     18.7    33.4\n",
              "4    7.147   5.33     18.7    36.2\n",
              "..     ...    ...      ...     ...\n",
              "501  6.593   9.67     21.0    22.4\n",
              "502  6.120   9.08     21.0    20.6\n",
              "503  6.976   5.64     21.0    23.9\n",
              "504  6.794   6.48     21.0    22.0\n",
              "505  6.030   7.88     21.0    11.9\n",
              "\n",
              "[506 rows x 4 columns]>"
            ]
          },
          "metadata": {},
          "execution_count": 8
        }
      ]
    }
  ]
}